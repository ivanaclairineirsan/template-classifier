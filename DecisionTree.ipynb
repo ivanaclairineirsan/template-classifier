{
 "cells": [
  {
   "cell_type": "markdown",
   "metadata": {},
   "source": [
    "### Imports"
   ]
  },
  {
   "cell_type": "markdown",
   "metadata": {},
   "source": [
    "Note:\n",
    "- pandas >= 0.25.1\n",
    "- numpy >= 1.17.2\n",
    "- sklearn >= 0.22.1"
   ]
  },
  {
   "cell_type": "code",
   "execution_count": 1,
   "metadata": {},
   "outputs": [],
   "source": [
    "import pandas as pd\n",
    "import numpy as np\n",
    "from sklearn.model_selection import train_test_split\n",
    "from sklearn.model_selection import cross_val_score\n",
    "from sklearn.metrics import confusion_matrix\n",
    "from sklearn.metrics import plot_confusion_matrix"
   ]
  },
  {
   "cell_type": "markdown",
   "metadata": {},
   "source": [
    "### Load Dataset"
   ]
  },
  {
   "cell_type": "code",
   "execution_count": null,
   "metadata": {},
   "outputs": [],
   "source": [
    "import pandas as pd\n",
    "\n",
    "df = pd.read_csv('filename.csv', header=None)\n",
    "\n",
    "# df.head(5)   # --> check first 5 rows\n",
    "# df.columns=['a','b','c'] # --> replace column names"
   ]
  },
  {
   "cell_type": "markdown",
   "metadata": {},
   "source": [
    "### Handle Missing Data (https://towardsdatascience.com/working-with-missing-values-in-pandas-5da45d16e74)"
   ]
  },
  {
   "cell_type": "code",
   "execution_count": 7,
   "metadata": {},
   "outputs": [],
   "source": [
    "df.dtypes() # --> check types for each columns (look for 'objects' type)\n",
    "# df['columns'].unique # --> print unique values in this column\n",
    "\n",
    "df.info() # --> dataframe info, missing data, etc\n",
    "# df.describe() # --> summary of dataframe\n",
    "\n",
    "df.isnull().sum() --> for NaN or None\n",
    "# len(df.loc[(df['column1']=='?') | (df['column2']=='?')])  --> for masked missing value\n",
    "\n",
    "# 1. Delete rows with missing values\n",
    "# df_drop_missing_values = df.dropna(axis=0dropna(axis=0, how=’any’, thresh=None, subset=None, inplace=False))\n",
    "\n",
    "# 2. Replace missing values with mean\n",
    "# df['column'] = df['column'].fillna(value=df['column'].mean(), inplace=True)"
   ]
  },
  {
   "cell_type": "markdown",
   "metadata": {},
   "source": [
    "### Formatting Data"
   ]
  },
  {
   "cell_type": "code",
   "execution_count": null,
   "metadata": {},
   "outputs": [],
   "source": [
    "#  1. One Hot Encoding\n",
    "# data_encoded = pd.get_dummies(df, columns['col1', 'col2'])"
   ]
  },
  {
   "cell_type": "code",
   "execution_count": null,
   "metadata": {},
   "outputs": [],
   "source": [
    "# 2. Split data and target\n",
    "# X = df.drop(columns=['target']).copy()\n",
    "# y = df['target'].copy()\n",
    "# X_train, X_test, y_train, y_test = train_test_split(X, y, test_size=0.2)"
   ]
  },
  {
   "cell_type": "code",
   "execution_count": 5,
   "metadata": {},
   "outputs": [],
   "source": [
    "### Build Classifier\n",
    "# 1. DecisionTree\n",
    "clf_dt = DecisionTreeClassifier(random_state=42)\n",
    "clf_dt = clf_dt.fit(X_train, y_train)"
   ]
  },
  {
   "cell_type": "code",
   "execution_count": 6,
   "metadata": {},
   "outputs": [],
   "source": [
    "### Evaluation\n",
    "plot_confusion_matrix(clf_dt, X_test, y_test)"
   ]
  },
  {
   "cell_type": "code",
   "execution_count": null,
   "metadata": {},
   "outputs": [],
   "source": []
  }
 ],
 "metadata": {
  "kernelspec": {
   "display_name": "Python 3",
   "language": "python",
   "name": "python3"
  },
  "language_info": {
   "codemirror_mode": {
    "name": "ipython",
    "version": 3
   },
   "file_extension": ".py",
   "mimetype": "text/x-python",
   "name": "python",
   "nbconvert_exporter": "python",
   "pygments_lexer": "ipython3",
   "version": "3.7.4"
  }
 },
 "nbformat": 4,
 "nbformat_minor": 2
}
